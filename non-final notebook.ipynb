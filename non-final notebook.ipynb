{
 "cells": [
  {
   "cell_type": "code",
   "execution_count": 200,
   "id": "b4aff9ba",
   "metadata": {},
   "outputs": [],
   "source": [
    "import numpy as np\n",
    "import pandas as pd\n",
    "from scipy import stats\n",
    "from pydataset import data\n",
    "import seaborn as sns\n",
    "import matplotlib.pyplot as plt \n",
    "import acquire as acq\n",
    "import prepare as prep\n",
    "from sklearn.linear_model import LogisticRegression\n",
    "from sklearn.tree import DecisionTreeClassifier\n",
    "from sklearn.neighbors import KNeighborsClassifier\n",
    "import warnings\n",
    "warnings.filterwarnings(\"ignore\")\n",
    "alpha=0.05"
   ]
  },
  {
   "cell_type": "code",
   "execution_count": 201,
   "id": "550e99d2",
   "metadata": {},
   "outputs": [],
   "source": [
    "telco=acq.get_telco_data()"
   ]
  },
  {
   "cell_type": "code",
   "execution_count": 247,
   "id": "d3af38a9",
   "metadata": {},
   "outputs": [
    {
     "name": "stdout",
     "output_type": "stream",
     "text": [
      "<class 'pandas.core.frame.DataFrame'>\n",
      "RangeIndex: 7043 entries, 0 to 7042\n",
      "Data columns (total 58 columns):\n",
      " #   Column                                  Non-Null Count  Dtype  \n",
      "---  ------                                  --------------  -----  \n",
      " 0   customer_id                             7043 non-null   object \n",
      " 1   gender                                  7043 non-null   object \n",
      " 2   senior_citizen                          7043 non-null   int64  \n",
      " 3   partner                                 7043 non-null   object \n",
      " 4   dependents                              7043 non-null   object \n",
      " 5   tenure                                  7043 non-null   int64  \n",
      " 6   phone_service                           7043 non-null   object \n",
      " 7   multiple_lines                          7043 non-null   object \n",
      " 8   online_security                         7043 non-null   object \n",
      " 9   online_backup                           7043 non-null   object \n",
      " 10  device_protection                       7043 non-null   object \n",
      " 11  tech_support                            7043 non-null   object \n",
      " 12  streaming_tv                            7043 non-null   object \n",
      " 13  streaming_movies                        7043 non-null   object \n",
      " 14  paperless_billing                       7043 non-null   object \n",
      " 15  monthly_charges                         7043 non-null   float64\n",
      " 16  total_charges                           7043 non-null   float64\n",
      " 17  churn                                   7043 non-null   object \n",
      " 18  payment_type                            7043 non-null   object \n",
      " 19  internet_service_type                   7043 non-null   object \n",
      " 20  contract_type                           7043 non-null   object \n",
      " 21  gender_encoded                          7043 non-null   int64  \n",
      " 22  partner_encoded                         7043 non-null   int64  \n",
      " 23  dependents_encoded                      7043 non-null   int64  \n",
      " 24  phone_service_encoded                   7043 non-null   int64  \n",
      " 25  paperless_billing_encoded               7043 non-null   int64  \n",
      " 26  churn_encoded                           7043 non-null   int64  \n",
      " 27  multiple_lines_No                       7043 non-null   uint8  \n",
      " 28  multiple_lines_No phone service         7043 non-null   uint8  \n",
      " 29  multiple_lines_Yes                      7043 non-null   uint8  \n",
      " 30  online_security_No                      7043 non-null   uint8  \n",
      " 31  online_security_No internet service     7043 non-null   uint8  \n",
      " 32  online_security_Yes                     7043 non-null   uint8  \n",
      " 33  online_backup_No                        7043 non-null   uint8  \n",
      " 34  online_backup_No internet service       7043 non-null   uint8  \n",
      " 35  online_backup_Yes                       7043 non-null   uint8  \n",
      " 36  device_protection_No                    7043 non-null   uint8  \n",
      " 37  device_protection_No internet service   7043 non-null   uint8  \n",
      " 38  device_protection_Yes                   7043 non-null   uint8  \n",
      " 39  tech_support_No                         7043 non-null   uint8  \n",
      " 40  tech_support_No internet service        7043 non-null   uint8  \n",
      " 41  tech_support_Yes                        7043 non-null   uint8  \n",
      " 42  streaming_tv_No                         7043 non-null   uint8  \n",
      " 43  streaming_tv_No internet service        7043 non-null   uint8  \n",
      " 44  streaming_tv_Yes                        7043 non-null   uint8  \n",
      " 45  streaming_movies_No                     7043 non-null   uint8  \n",
      " 46  streaming_movies_No internet service    7043 non-null   uint8  \n",
      " 47  streaming_movies_Yes                    7043 non-null   uint8  \n",
      " 48  no_contract                             7043 non-null   uint8  \n",
      " 49  contract_type_One year                  7043 non-null   uint8  \n",
      " 50  contract_type_Two year                  7043 non-null   uint8  \n",
      " 51  internet_service_type_DSL               7043 non-null   uint8  \n",
      " 52  internet_service_type_Fiber optic       7043 non-null   uint8  \n",
      " 53  internet_service_type_None              7043 non-null   uint8  \n",
      " 54  payment_type_Bank transfer (automatic)  7043 non-null   uint8  \n",
      " 55  payment_type_Credit card (automatic)    7043 non-null   uint8  \n",
      " 56  payment_type_Electronic check           7043 non-null   uint8  \n",
      " 57  payment_type_Mailed check               7043 non-null   uint8  \n",
      "dtypes: float64(2), int64(8), object(17), uint8(31)\n",
      "memory usage: 1.7+ MB\n"
     ]
    }
   ],
   "source": [
    "\n",
    "telco.info()"
   ]
  },
  {
   "cell_type": "code",
   "execution_count": 202,
   "id": "a8e1c442",
   "metadata": {},
   "outputs": [],
   "source": [
    "telco=prep.prep_telco(telco)"
   ]
  },
  {
   "cell_type": "code",
   "execution_count": 203,
   "id": "624af80e",
   "metadata": {},
   "outputs": [
    {
     "name": "stdout",
     "output_type": "stream",
     "text": [
      "<class 'pandas.core.frame.DataFrame'>\n",
      "RangeIndex: 7043 entries, 0 to 7042\n",
      "Data columns (total 58 columns):\n",
      " #   Column                                  Non-Null Count  Dtype  \n",
      "---  ------                                  --------------  -----  \n",
      " 0   customer_id                             7043 non-null   object \n",
      " 1   gender                                  7043 non-null   object \n",
      " 2   senior_citizen                          7043 non-null   int64  \n",
      " 3   partner                                 7043 non-null   object \n",
      " 4   dependents                              7043 non-null   object \n",
      " 5   tenure                                  7043 non-null   int64  \n",
      " 6   phone_service                           7043 non-null   object \n",
      " 7   multiple_lines                          7043 non-null   object \n",
      " 8   online_security                         7043 non-null   object \n",
      " 9   online_backup                           7043 non-null   object \n",
      " 10  device_protection                       7043 non-null   object \n",
      " 11  tech_support                            7043 non-null   object \n",
      " 12  streaming_tv                            7043 non-null   object \n",
      " 13  streaming_movies                        7043 non-null   object \n",
      " 14  paperless_billing                       7043 non-null   object \n",
      " 15  monthly_charges                         7043 non-null   float64\n",
      " 16  total_charges                           7043 non-null   float64\n",
      " 17  churn                                   7043 non-null   object \n",
      " 18  payment_type                            7043 non-null   object \n",
      " 19  internet_service_type                   7043 non-null   object \n",
      " 20  contract_type                           7043 non-null   object \n",
      " 21  gender_encoded                          7043 non-null   int64  \n",
      " 22  partner_encoded                         7043 non-null   int64  \n",
      " 23  dependents_encoded                      7043 non-null   int64  \n",
      " 24  phone_service_encoded                   7043 non-null   int64  \n",
      " 25  paperless_billing_encoded               7043 non-null   int64  \n",
      " 26  churn_encoded                           7043 non-null   int64  \n",
      " 27  multiple_lines_No                       7043 non-null   uint8  \n",
      " 28  multiple_lines_No phone service         7043 non-null   uint8  \n",
      " 29  multiple_lines_Yes                      7043 non-null   uint8  \n",
      " 30  online_security_No                      7043 non-null   uint8  \n",
      " 31  online_security_No internet service     7043 non-null   uint8  \n",
      " 32  online_security_Yes                     7043 non-null   uint8  \n",
      " 33  online_backup_No                        7043 non-null   uint8  \n",
      " 34  online_backup_No internet service       7043 non-null   uint8  \n",
      " 35  online_backup_Yes                       7043 non-null   uint8  \n",
      " 36  device_protection_No                    7043 non-null   uint8  \n",
      " 37  device_protection_No internet service   7043 non-null   uint8  \n",
      " 38  device_protection_Yes                   7043 non-null   uint8  \n",
      " 39  tech_support_No                         7043 non-null   uint8  \n",
      " 40  tech_support_No internet service        7043 non-null   uint8  \n",
      " 41  tech_support_Yes                        7043 non-null   uint8  \n",
      " 42  streaming_tv_No                         7043 non-null   uint8  \n",
      " 43  streaming_tv_No internet service        7043 non-null   uint8  \n",
      " 44  streaming_tv_Yes                        7043 non-null   uint8  \n",
      " 45  streaming_movies_No                     7043 non-null   uint8  \n",
      " 46  streaming_movies_No internet service    7043 non-null   uint8  \n",
      " 47  streaming_movies_Yes                    7043 non-null   uint8  \n",
      " 48  no_contract                             7043 non-null   uint8  \n",
      " 49  contract_type_One year                  7043 non-null   uint8  \n",
      " 50  contract_type_Two year                  7043 non-null   uint8  \n",
      " 51  internet_service_type_DSL               7043 non-null   uint8  \n",
      " 52  internet_service_type_Fiber optic       7043 non-null   uint8  \n",
      " 53  internet_service_type_None              7043 non-null   uint8  \n",
      " 54  payment_type_Bank transfer (automatic)  7043 non-null   uint8  \n",
      " 55  payment_type_Credit card (automatic)    7043 non-null   uint8  \n",
      " 56  payment_type_Electronic check           7043 non-null   uint8  \n",
      " 57  payment_type_Mailed check               7043 non-null   uint8  \n",
      "dtypes: float64(2), int64(8), object(17), uint8(31)\n",
      "memory usage: 1.7+ MB\n"
     ]
    }
   ],
   "source": [
    "telco=telco.rename(columns={\"contract_type_Month-to-month\":\"no_contract\"})\n",
    "telco.info()"
   ]
  },
  {
   "cell_type": "code",
   "execution_count": 7,
   "id": "b78dae31",
   "metadata": {
    "scrolled": true
   },
   "outputs": [
    {
     "data": {
      "text/plain": [
       "0       65.60\n",
       "1       59.90\n",
       "2       73.90\n",
       "3       98.00\n",
       "4       83.90\n",
       "        ...  \n",
       "7038    55.15\n",
       "7039    85.10\n",
       "7040    50.30\n",
       "7041    67.85\n",
       "7042    59.00\n",
       "Name: monthly_charges, Length: 7043, dtype: float64"
      ]
     },
     "execution_count": 7,
     "metadata": {},
     "output_type": "execute_result"
    }
   ],
   "source": [
    "telco['monthly_charges']"
   ]
  },
  {
   "cell_type": "code",
   "execution_count": 8,
   "id": "e8b60020",
   "metadata": {},
   "outputs": [
    {
     "data": {
      "text/plain": [
       "customer_id                               0\n",
       "gender                                    0\n",
       "senior_citizen                            0\n",
       "partner                                   0\n",
       "dependents                                0\n",
       "tenure                                    0\n",
       "phone_service                             0\n",
       "multiple_lines                            0\n",
       "online_security                           0\n",
       "online_backup                             0\n",
       "device_protection                         0\n",
       "tech_support                              0\n",
       "streaming_tv                              0\n",
       "streaming_movies                          0\n",
       "paperless_billing                         0\n",
       "monthly_charges                           0\n",
       "total_charges                             0\n",
       "churn                                     0\n",
       "payment_type                              0\n",
       "internet_service_type                     0\n",
       "contract_type                             0\n",
       "gender_encoded                            0\n",
       "partner_encoded                           0\n",
       "dependents_encoded                        0\n",
       "phone_service_encoded                     0\n",
       "paperless_billing_encoded                 0\n",
       "churn_encoded                             0\n",
       "multiple_lines_No                         0\n",
       "multiple_lines_No phone service           0\n",
       "multiple_lines_Yes                        0\n",
       "online_security_No                        0\n",
       "online_security_No internet service       0\n",
       "online_security_Yes                       0\n",
       "online_backup_No                          0\n",
       "online_backup_No internet service         0\n",
       "online_backup_Yes                         0\n",
       "device_protection_No                      0\n",
       "device_protection_No internet service     0\n",
       "device_protection_Yes                     0\n",
       "tech_support_No                           0\n",
       "tech_support_No internet service          0\n",
       "tech_support_Yes                          0\n",
       "streaming_tv_No                           0\n",
       "streaming_tv_No internet service          0\n",
       "streaming_tv_Yes                          0\n",
       "streaming_movies_No                       0\n",
       "streaming_movies_No internet service      0\n",
       "streaming_movies_Yes                      0\n",
       "no_contract                               0\n",
       "contract_type_One year                    0\n",
       "contract_type_Two year                    0\n",
       "internet_service_type_DSL                 0\n",
       "internet_service_type_Fiber optic         0\n",
       "internet_service_type_None                0\n",
       "payment_type_Bank transfer (automatic)    0\n",
       "payment_type_Credit card (automatic)      0\n",
       "payment_type_Electronic check             0\n",
       "payment_type_Mailed check                 0\n",
       "dtype: int64"
      ]
     },
     "execution_count": 8,
     "metadata": {},
     "output_type": "execute_result"
    }
   ],
   "source": [
    "# No NULLS WERE FOUND\n",
    "telco.isnull().sum()"
   ]
  },
  {
   "cell_type": "markdown",
   "id": "b686ed80",
   "metadata": {},
   "source": [
    "## Do clients with contracts churn less than clients  with month-to-month?"
   ]
  },
  {
   "cell_type": "code",
   "execution_count": 251,
   "id": "fff484a1",
   "metadata": {},
   "outputs": [
    {
     "data": {
      "image/png": "[encoded data removed]",
      "text/plain": [
       "<Figure size 640x480 with 1 Axes>"
      ]
     },
     "metadata": {},
     "output_type": "display_data"
    }
   ],
   "source": [
    "sns.barplot(data=telco,x='churn',y='no_contract')\n",
    "plt.show()"
   ]
  },
  {
   "cell_type": "code",
   "execution_count": null,
   "id": "5fa59e63",
   "metadata": {},
   "outputs": [],
   "source": []
  },
  {
   "cell_type": "markdown",
   "id": "a8035f69",
   "metadata": {},
   "source": [
    "Month to month client tend to churn more than client with a contract.\n",
    "\n"
   ]
  },
  {
   "cell_type": "markdown",
   "id": "74146b24",
   "metadata": {},
   "source": [
    "## Clients without dependent churn more than client with dependents?"
   ]
  },
  {
   "cell_type": "code",
   "execution_count": 24,
   "id": "e30972b6",
   "metadata": {},
   "outputs": [
    {
     "data": {
      "image/png": "[encoded data removed]",
      "text/plain": [
       "<Figure size 640x480 with 1 Axes>"
      ]
     },
     "metadata": {},
     "output_type": "display_data"
    }
   ],
   "source": [
    "sns.barplot(data=telco,x='churn',y='dependents_encoded')\n",
    "plt.show()"
   ]
  },
  {
   "cell_type": "markdown",
   "id": "8c3d2f0f",
   "metadata": {},
   "source": [
    "Clients with NO dependent tend to churn more thant client with dependents."
   ]
  },
  {
   "cell_type": "markdown",
   "id": "b5c30743",
   "metadata": {},
   "source": [
    "## Senior Citizen Clients tend to churn more than non-senior citizen clients?"
   ]
  },
  {
   "cell_type": "code",
   "execution_count": 30,
   "id": "856f5448",
   "metadata": {},
   "outputs": [
    {
     "data": {
      "image/png": "[encoded data removed]",
      "text/plain": [
       "<Figure size 640x480 with 1 Axes>"
      ]
     },
     "metadata": {},
     "output_type": "display_data"
    }
   ],
   "source": [
    "sns.barplot(data=telco,x='churn',y='senior_citizen')\n",
    "plt.show()"
   ]
  },
  {
   "cell_type": "markdown",
   "id": "7e4d1870",
   "metadata": {},
   "source": [
    "Senior Citizen tend to churn more than clients who are not senior citizen."
   ]
  },
  {
   "cell_type": "markdown",
   "id": "217ff938",
   "metadata": {},
   "source": [
    "## Clients without tech support tend to churn more than clients with tech support?\n",
    "  ### Does service type affects the tech support/churning?"
   ]
  },
  {
   "cell_type": "code",
   "execution_count": 91,
   "id": "5658c686",
   "metadata": {},
   "outputs": [
    {
     "data": {
      "image/png": "[encoded data removed]",
      "text/plain": [
       "<Figure size 640x480 with 1 Axes>"
      ]
     },
     "metadata": {},
     "output_type": "display_data"
    }
   ],
   "source": [
    "sns.barplot(data=telco,x='churn',y='tech_support_No')\n",
    "plt.show()"
   ]
  },
  {
   "cell_type": "code",
   "execution_count": 29,
   "id": "a9293032",
   "metadata": {},
   "outputs": [
    {
     "data": {
      "image/png": "[encoded data removed]",
      "text/plain": [
       "<Figure size 640x480 with 1 Axes>"
      ]
     },
     "metadata": {},
     "output_type": "display_data"
    }
   ],
   "source": [
    "sns.barplot(data=telco,x='churn_encoded',y='tech_support',hue=\"internet_service_type\")\n",
    "plt.show()"
   ]
  },
  {
   "cell_type": "markdown",
   "id": "5ad36a6b",
   "metadata": {},
   "source": [
    "## Clients with higher monthly charges tend to churn more than clients with low monthly charges?"
   ]
  },
  {
   "cell_type": "code",
   "execution_count": 52,
   "id": "ecf34abe",
   "metadata": {
    "scrolled": true
   },
   "outputs": [
    {
     "data": {
      "image/png": "[encoded data removed]",
      "text/plain": [
       "<Figure size 640x480 with 1 Axes>"
      ]
     },
     "metadata": {},
     "output_type": "display_data"
    }
   ],
   "source": [
    "sns.barplot(data=telco,x='churn',y='monthly_charges')\n",
    "plt.show()"
   ]
  },
  {
   "cell_type": "code",
   "execution_count": 256,
   "id": "25d91e88",
   "metadata": {},
   "outputs": [
    {
     "data": {
      "image/png": "[encoded data removed]",
      "text/plain": [
       "<Figure size 640x480 with 1 Axes>"
      ]
     },
     "metadata": {},
     "output_type": "display_data"
    }
   ],
   "source": [
    "sns.barplot(data=telco,x='online_backup_Yes',y='monthly_charges', hue='churn')\n",
    "plt.show()"
   ]
  },
  {
   "cell_type": "markdown",
   "id": "93d9d6d0",
   "metadata": {},
   "source": [
    "# Statistical tests"
   ]
  },
  {
   "cell_type": "markdown",
   "id": "2387ef1e",
   "metadata": {},
   "source": [
    "### CHI SQUARE:\n",
    "#### Do month-to-month clients churn more than contract clients?"
   ]
  },
  {
   "cell_type": "code",
   "execution_count": 21,
   "id": "ef046953",
   "metadata": {},
   "outputs": [],
   "source": [
    "observed=pd.crosstab(telco.churn,telco.no_contract)"
   ]
  },
  {
   "cell_type": "code",
   "execution_count": 22,
   "id": "29cc73a4",
   "metadata": {},
   "outputs": [
    {
     "name": "stdout",
     "output_type": "stream",
     "text": [
      "observed\n",
      "[[2954 2220]\n",
      " [ 214 1655]]\n",
      "\n",
      "expected\n",
      "[[2327 2846]\n",
      " [ 840 1028]]\n",
      "\n",
      "------\n",
      "chi^2=1153.9717\n",
      "p=6.147585925548493e-253\n"
     ]
    }
   ],
   "source": [
    "chi2,p,degf,expected=stats.chi2_contingency(observed)\n",
    "print('observed')\n",
    "print(observed.values)\n",
    "print('\\nexpected')\n",
    "print(expected.astype(int))\n",
    "print('\\n------')\n",
    "print(f'chi^2={chi2:.4f}')\n",
    "print(f'p={p}')"
   ]
  },
  {
   "cell_type": "code",
   "execution_count": 23,
   "id": "7b18496d",
   "metadata": {},
   "outputs": [
    {
     "name": "stdout",
     "output_type": "stream",
     "text": [
      "we reject the null hypothesis\n"
     ]
    }
   ],
   "source": [
    "if p < alpha:\n",
    "    print('we reject the null hypothesis')\n",
    "else:\n",
    "    print('we fail to reject the null hypothesis')"
   ]
  },
  {
   "cell_type": "markdown",
   "id": "28b49c5b",
   "metadata": {},
   "source": [
    "#### Clients without dependent churn more than client with dependents?"
   ]
  },
  {
   "cell_type": "code",
   "execution_count": 35,
   "id": "3ad1b5d9",
   "metadata": {
    "scrolled": true
   },
   "outputs": [
    {
     "name": "stdout",
     "output_type": "stream",
     "text": [
      "observed2\n",
      "[[3390 1784]\n",
      " [1543  326]]\n",
      "\n",
      "expected\n",
      "[[3623 1550]\n",
      " [1309  559]]\n",
      "\n",
      "------\n",
      "chi^2=189.1292\n",
      "p=4.9249216612154196e-43\n"
     ]
    }
   ],
   "source": [
    "observed2=pd.crosstab(telco.churn,telco.dependents_encoded)\n",
    "chi2,p,degf,expected=stats.chi2_contingency(observed2)\n",
    "print('observed2')\n",
    "print(observed2.values)\n",
    "print('\\nexpected')\n",
    "print(expected.astype(int))\n",
    "print('\\n------')\n",
    "print(f'chi^2={chi2:.4f}')\n",
    "print(f'p={p}')"
   ]
  },
  {
   "cell_type": "code",
   "execution_count": 36,
   "id": "88530ba4",
   "metadata": {},
   "outputs": [
    {
     "name": "stdout",
     "output_type": "stream",
     "text": [
      "we reject the null hypothesis\n"
     ]
    }
   ],
   "source": [
    "if p < alpha:\n",
    "    print('we reject the null hypothesis')\n",
    "else:\n",
    "    print('we fail to reject the null hypothesis')"
   ]
  },
  {
   "cell_type": "markdown",
   "id": "4c2c4710",
   "metadata": {},
   "source": [
    "#### Senior Citizen Clients tend to churn more than non-senior citizen clients?"
   ]
  },
  {
   "cell_type": "code",
   "execution_count": 34,
   "id": "edd9d891",
   "metadata": {
    "scrolled": true
   },
   "outputs": [
    {
     "name": "stdout",
     "output_type": "stream",
     "text": [
      "observed3\n",
      "[[3390 1784]\n",
      " [1543  326]]\n",
      "\n",
      "expected\n",
      "[[4335  838]\n",
      " [1565  303]]\n",
      "\n",
      "------\n",
      "chi^2=159.4263\n",
      "p=1.510066805092378e-36\n",
      "we reject the null hypothesis\n"
     ]
    }
   ],
   "source": [
    "observed3=pd.crosstab(telco.churn,telco.senior_citizen)\n",
    "chi2,p,degf,expected=stats.chi2_contingency(observed3)\n",
    "print('observed3')\n",
    "print(observed2.values)\n",
    "print('\\nexpected')\n",
    "print(expected.astype(int))\n",
    "print('\\n------')\n",
    "print(f'chi^2={chi2:.4f}')\n",
    "print(f'p={p}')\n",
    "\n",
    "if p < alpha:\n",
    "    print('we reject the null hypothesis')\n",
    "else:\n",
    "    print('we fail to reject the null hypothesis')"
   ]
  },
  {
   "cell_type": "markdown",
   "id": "cd98484d",
   "metadata": {},
   "source": [
    "## T-TEST:\n",
    "### Clients with higher monthly charges tend to churn more than clients with low monthly charges?\n"
   ]
  },
  {
   "cell_type": "code",
   "execution_count": 144,
   "id": "b2691b51",
   "metadata": {},
   "outputs": [
    {
     "data": {
      "text/plain": [
       "(179.8639691593982, 0.0)"
      ]
     },
     "execution_count": 144,
     "metadata": {},
     "output_type": "execute_result"
    }
   ],
   "source": [
    "t,p=stats.ttest_ind(telco.monthly_charges,telco.churn_encoded)\n",
    "t,p"
   ]
  },
  {
   "cell_type": "code",
   "execution_count": 145,
   "id": "e2aed4a2",
   "metadata": {},
   "outputs": [
    {
     "name": "stdout",
     "output_type": "stream",
     "text": [
      "we reject the null hypothesis\n"
     ]
    }
   ],
   "source": [
    "if p/2 < alpha:\n",
    "    print('we reject the null hypothesis')\n",
    "else:\n",
    "    print('we fail to reject the null hypothesis')"
   ]
  },
  {
   "cell_type": "markdown",
   "id": "e9acf40d",
   "metadata": {},
   "source": [
    "## Classification tests\n",
    "### Different models"
   ]
  },
  {
   "cell_type": "code",
   "execution_count": 204,
   "id": "9ac7138b",
   "metadata": {},
   "outputs": [],
   "source": [
    "x_train=telco[['monthly_charges','senior_citizen','dependents_encoded','tech_support_No','no_contract']]\n",
    "y_train=telco.churn_encoded\n",
    "x_validate=telco[['monthly_charges','senior_citizen','dependents_encoded','tech_support_No','no_contract']]\n",
    "y_validate=telco.churn_encoded\n",
    "x_test=telco[['monthly_charges','senior_citizen','dependents_encoded','tech_support_No','no_contract']]\n",
    "y_test=telco.churn_encoded"
   ]
  },
  {
   "cell_type": "code",
   "execution_count": null,
   "id": "39e85ca7",
   "metadata": {},
   "outputs": [],
   "source": []
  },
  {
   "cell_type": "code",
   "execution_count": 76,
   "id": "62cc4915",
   "metadata": {},
   "outputs": [
    {
     "data": {
      "text/plain": [
       "No     5174\n",
       "Yes    1869\n",
       "Name: churn, dtype: int64"
      ]
     },
     "execution_count": 76,
     "metadata": {},
     "output_type": "execute_result"
    }
   ],
   "source": [
    "telco.churn.value_counts()"
   ]
  },
  {
   "cell_type": "code",
   "execution_count": 77,
   "id": "41a8d373",
   "metadata": {
    "scrolled": false
   },
   "outputs": [
    {
     "data": {
      "text/plain": [
       "73.4630129206304"
      ]
     },
     "execution_count": 77,
     "metadata": {},
     "output_type": "execute_result"
    }
   ],
   "source": [
    "baseline_accuracy=5174/(5174+1869)\n",
    "baseline_accuracy*100"
   ]
  },
  {
   "cell_type": "markdown",
   "id": "a225685b",
   "metadata": {},
   "source": [
    "## Logistic Regression:"
   ]
  },
  {
   "cell_type": "code",
   "execution_count": 95,
   "id": "4a93d9a7",
   "metadata": {},
   "outputs": [
    {
     "data": {
      "text/plain": [
       "76.58668181172796"
      ]
     },
     "execution_count": 95,
     "metadata": {},
     "output_type": "execute_result"
    }
   ],
   "source": [
    "lr=LogisticRegression(random_state=42)\n",
    "lr.fit(x_train,y_train)\n",
    "lr.score(x_train,y_train)*100"
   ]
  },
  {
   "cell_type": "code",
   "execution_count": 122,
   "id": "730ad2b3",
   "metadata": {},
   "outputs": [
    {
     "data": {
      "text/plain": [
       "76.60088030668749"
      ]
     },
     "execution_count": 122,
     "metadata": {},
     "output_type": "execute_result"
    }
   ],
   "source": [
    "lr=LogisticRegression(C=0.5,random_state=123)\n",
    "lr.fit(x_train,y_train)\n",
    "lr.score(x_train,y_train)*100"
   ]
  },
  {
   "cell_type": "code",
   "execution_count": 123,
   "id": "54f62d3e",
   "metadata": {},
   "outputs": [
    {
     "data": {
      "text/plain": [
       "71.31904018174073"
      ]
     },
     "execution_count": 123,
     "metadata": {},
     "output_type": "execute_result"
    }
   ],
   "source": [
    "lr=LogisticRegression(class_weight='balanced',random_state=123)\n",
    "lr.fit(x_train,y_train)\n",
    "lr.score(x_train,y_train)*100"
   ]
  },
  {
   "cell_type": "code",
   "execution_count": 210,
   "id": "4e817e98",
   "metadata": {},
   "outputs": [
    {
     "data": {
      "text/plain": [
       "76.58668181172796"
      ]
     },
     "execution_count": 210,
     "metadata": {},
     "output_type": "execute_result"
    }
   ],
   "source": [
    "lr=LogisticRegression()\n",
    "lr.fit(x_train,y_train)\n",
    "lr.score(x_train,y_train)*100\n"
   ]
  },
  {
   "cell_type": "code",
   "execution_count": null,
   "id": "86db909a",
   "metadata": {},
   "outputs": [],
   "source": []
  },
  {
   "cell_type": "markdown",
   "id": "e8c77dee",
   "metadata": {},
   "source": [
    "## Decision Tree Classfier :"
   ]
  },
  {
   "cell_type": "code",
   "execution_count": 175,
   "id": "97769bee",
   "metadata": {},
   "outputs": [],
   "source": [
    "train,validate,test=prep.split_data(telco,'churn')"
   ]
  },
  {
   "cell_type": "code",
   "execution_count": 197,
   "id": "472dbfea",
   "metadata": {},
   "outputs": [],
   "source": [
    "x_train=telco.select_dtypes(exclude=['object']).drop(columns=['churn_encoded'])\n",
    "y_train=telco.churn_encoded\n",
    "x_validate=telco.select_dtypes(exclude=['object']).drop(columns=['churn_encoded'])\n",
    "y_validate=telco.churn_encoded\n",
    "x_test=telco.select_dtypes(exclude=['object']).drop(columns=['churn_encoded'])\n",
    "y_test=telco.churn_encoded"
   ]
  },
  {
   "cell_type": "code",
   "execution_count": null,
   "id": "440e19f8",
   "metadata": {},
   "outputs": [],
   "source": []
  },
  {
   "cell_type": "code",
   "execution_count": 179,
   "id": "5c525cb9",
   "metadata": {},
   "outputs": [
    {
     "data": {
      "text/plain": [
       "99.74442709072838"
      ]
     },
     "execution_count": 179,
     "metadata": {},
     "output_type": "execute_result"
    }
   ],
   "source": [
    "dt=DecisionTreeClassifier()\n",
    "dt.fit(x_train,y_train)\n",
    "dt.score(x_train,y_train)*100"
   ]
  },
  {
   "cell_type": "code",
   "execution_count": 211,
   "id": "6c42b5e2",
   "metadata": {},
   "outputs": [
    {
     "data": {
      "text/plain": [
       "77.12622462019027"
      ]
     },
     "execution_count": 211,
     "metadata": {},
     "output_type": "execute_result"
    }
   ],
   "source": [
    "dt=DecisionTreeClassifier(max_depth=4)\n",
    "dt.fit(x_train,y_train)\n",
    "dt.score(x_train,y_train)*100"
   ]
  },
  {
   "cell_type": "code",
   "execution_count": null,
   "id": "fe7a2d62",
   "metadata": {
    "scrolled": true
   },
   "outputs": [],
   "source": []
  },
  {
   "cell_type": "markdown",
   "id": "0edb15d3",
   "metadata": {},
   "source": [
    "# KNN Model:"
   ]
  },
  {
   "cell_type": "code",
   "execution_count": 207,
   "id": "b4b25809",
   "metadata": {},
   "outputs": [
    {
     "data": {
      "text/plain": [
       "(82.2802782905012, 82.2802782905012)"
      ]
     },
     "execution_count": 207,
     "metadata": {},
     "output_type": "execute_result"
    }
   ],
   "source": [
    "knn=KNeighborsClassifier()\n",
    "knn.fit(x_train,y_train)\n",
    "knn.score(x_train,y_train)*100, knn.score(x_validate,y_validate)*100"
   ]
  },
  {
   "cell_type": "code",
   "execution_count": 206,
   "id": "5990561b",
   "metadata": {
    "scrolled": true
   },
   "outputs": [
    {
     "data": {
      "text/plain": [
       "(79.00042595484878, 79.00042595484878)"
      ]
     },
     "execution_count": 206,
     "metadata": {},
     "output_type": "execute_result"
    }
   ],
   "source": [
    "knn=KNeighborsClassifier(n_neighbors=15)\n",
    "knn.fit(x_train,y_train)\n",
    "knn.score(x_train,y_train)*100, knn.score(x_validate,y_validate)*100"
   ]
  },
  {
   "cell_type": "code",
   "execution_count": 254,
   "id": "a47ceb20",
   "metadata": {
    "scrolled": true
   },
   "outputs": [
    {
     "data": {
      "text/plain": [
       "(82.2802782905012, 82.2802782905012)"
      ]
     },
     "execution_count": 254,
     "metadata": {},
     "output_type": "execute_result"
    }
   ],
   "source": [
    "knn=KNeighborsClassifier()\n",
    "knn.fit(x_train,y_train)\n",
    "knn.score(x_train,y_train)*100, knn.score(x_validate,y_validate)*100"
   ]
  },
  {
   "cell_type": "code",
   "execution_count": 208,
   "id": "daf30b0b",
   "metadata": {},
   "outputs": [
    {
     "data": {
      "text/plain": [
       "82.2802782905012"
      ]
     },
     "execution_count": 208,
     "metadata": {},
     "output_type": "execute_result"
    }
   ],
   "source": [
    "knn=KNeighborsClassifier()\n",
    "knn.fit(x_train,y_train)\n",
    "knn.score(x_test,y_test)*100"
   ]
  },
  {
   "cell_type": "code",
   "execution_count": 231,
   "id": "ecf05fb5",
   "metadata": {},
   "outputs": [],
   "source": [
    "test_pred=knn.predict(x_test)\n",
    "y_pred_proba5=knn5.predict_proba(X_train)"
   ]
  },
  {
   "cell_type": "code",
   "execution_count": 237,
   "id": "686f6c05",
   "metadata": {},
   "outputs": [
    {
     "data": {
      "text/plain": [
       "0       0002-ORFBO\n",
       "1       0003-MKNFE\n",
       "2       0004-TLHLJ\n",
       "3       0011-IGKFF\n",
       "4       0013-EXCHZ\n",
       "           ...    \n",
       "7038    9987-LUTYD\n",
       "7039    9992-RRAMN\n",
       "7040    9992-UJOEL\n",
       "7041    9993-LHIEB\n",
       "7042    9995-HOTOH\n",
       "Name: customer_id, Length: 7043, dtype: object"
      ]
     },
     "execution_count": 237,
     "metadata": {},
     "output_type": "execute_result"
    }
   ],
   "source": [
    "telco.customer_id"
   ]
  },
  {
   "cell_type": "code",
   "execution_count": 245,
   "id": "eb9e1ff5",
   "metadata": {},
   "outputs": [
    {
     "data": {
      "text/html": [
       "<div>\n",
       "<style scoped>\n",
       "    .dataframe tbody tr th:only-of-type {\n",
       "        vertical-align: middle;\n",
       "    }\n",
       "\n",
       "    .dataframe tbody tr th {\n",
       "        vertical-align: top;\n",
       "    }\n",
       "\n",
       "    .dataframe thead th {\n",
       "        text-align: right;\n",
       "    }\n",
       "</style>\n",
       "<table border=\"1\" class=\"dataframe\">\n",
       "  <thead>\n",
       "    <tr style=\"text-align: right;\">\n",
       "      <th></th>\n",
       "      <th>customer_id</th>\n",
       "      <th>churn_prediction</th>\n",
       "      <th>churn_probability</th>\n",
       "    </tr>\n",
       "  </thead>\n",
       "  <tbody>\n",
       "    <tr>\n",
       "      <th>0</th>\n",
       "      <td>0002-ORFBO</td>\n",
       "      <td>0</td>\n",
       "      <td>0.000000</td>\n",
       "    </tr>\n",
       "    <tr>\n",
       "      <th>1</th>\n",
       "      <td>0003-MKNFE</td>\n",
       "      <td>0</td>\n",
       "      <td>27.272727</td>\n",
       "    </tr>\n",
       "    <tr>\n",
       "      <th>2</th>\n",
       "      <td>0004-TLHLJ</td>\n",
       "      <td>1</td>\n",
       "      <td>63.636364</td>\n",
       "    </tr>\n",
       "    <tr>\n",
       "      <th>3</th>\n",
       "      <td>0011-IGKFF</td>\n",
       "      <td>1</td>\n",
       "      <td>90.909091</td>\n",
       "    </tr>\n",
       "    <tr>\n",
       "      <th>4</th>\n",
       "      <td>0013-EXCHZ</td>\n",
       "      <td>1</td>\n",
       "      <td>54.545455</td>\n",
       "    </tr>\n",
       "    <tr>\n",
       "      <th>...</th>\n",
       "      <td>...</td>\n",
       "      <td>...</td>\n",
       "      <td>...</td>\n",
       "    </tr>\n",
       "    <tr>\n",
       "      <th>7038</th>\n",
       "      <td>9987-LUTYD</td>\n",
       "      <td>0</td>\n",
       "      <td>9.090909</td>\n",
       "    </tr>\n",
       "    <tr>\n",
       "      <th>7039</th>\n",
       "      <td>9992-RRAMN</td>\n",
       "      <td>1</td>\n",
       "      <td>81.818182</td>\n",
       "    </tr>\n",
       "    <tr>\n",
       "      <th>7040</th>\n",
       "      <td>9992-UJOEL</td>\n",
       "      <td>0</td>\n",
       "      <td>18.181818</td>\n",
       "    </tr>\n",
       "    <tr>\n",
       "      <th>7041</th>\n",
       "      <td>9993-LHIEB</td>\n",
       "      <td>0</td>\n",
       "      <td>9.090909</td>\n",
       "    </tr>\n",
       "    <tr>\n",
       "      <th>7042</th>\n",
       "      <td>9995-HOTOH</td>\n",
       "      <td>0</td>\n",
       "      <td>9.090909</td>\n",
       "    </tr>\n",
       "  </tbody>\n",
       "</table>\n",
       "<p>7043 rows × 3 columns</p>\n",
       "</div>"
      ],
      "text/plain": [
       "     customer_id  churn_prediction  churn_probability\n",
       "0     0002-ORFBO                 0           0.000000\n",
       "1     0003-MKNFE                 0          27.272727\n",
       "2     0004-TLHLJ                 1          63.636364\n",
       "3     0011-IGKFF                 1          90.909091\n",
       "4     0013-EXCHZ                 1          54.545455\n",
       "...          ...               ...                ...\n",
       "7038  9987-LUTYD                 0           9.090909\n",
       "7039  9992-RRAMN                 1          81.818182\n",
       "7040  9992-UJOEL                 0          18.181818\n",
       "7041  9993-LHIEB                 0           9.090909\n",
       "7042  9995-HOTOH                 0           9.090909\n",
       "\n",
       "[7043 rows x 3 columns]"
      ]
     },
     "execution_count": 245,
     "metadata": {},
     "output_type": "execute_result"
    }
   ],
   "source": [
    "# Prediction .csv\n",
    "predictions = pd.concat([\n",
    "    pd.DataFrame(telco.customer_id).reset_index().drop(columns='index'),\n",
    "    pd.DataFrame(test_pred).rename(columns={0:'churn_prediction'}),\n",
    "    pd.DataFrame(knn.predict_proba(\n",
    "        x_test)*100).drop(columns=0).rename(\n",
    "        columns={1:'churn_probability'})\n",
    "],axis=1)\n",
    "predictions"
   ]
  },
  {
   "cell_type": "code",
   "execution_count": 246,
   "id": "eb8f50c0",
   "metadata": {},
   "outputs": [],
   "source": [
    "predictions.to_csv('telco_predictions.csv', index=False)"
   ]
  }
 ],
 "metadata": {
  "kernelspec": {
   "display_name": "Python 3 (ipykernel)",
   "language": "python",
   "name": "python3"
  },
  "language_info": {
   "codemirror_mode": {
    "name": "ipython",
    "version": 3
   },
   "file_extension": ".py",
   "mimetype": "text/x-python",
   "name": "python",
   "nbconvert_exporter": "python",
   "pygments_lexer": "ipython3",
   "version": "3.9.13"
  }
 },
 "nbformat": 4,
 "nbformat_minor": 5
}
