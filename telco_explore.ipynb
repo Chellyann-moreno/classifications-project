{
 "cells": [
  {
   "cell_type": "code",
   "execution_count": 1,
   "id": "e79299be",
   "metadata": {},
   "outputs": [],
   "source": [
    "import numpy as np\n",
    "import pandas as pd\n",
    "from scipy import stats\n",
    "from pydataset import data\n",
    "import seaborn as sns\n",
    "import matplotlib.pyplot as plt \n",
    "import acquire as acq\n",
    "import prepare as prep\n",
    "from sklearn.linear_model import LogisticRegression\n",
    "from sklearn.tree import DecisionTreeClassifier\n",
    "from sklearn.neighbors import KNeighborsClassifier\n",
    "from sklearn.model_selection import train_test_split\n",
    "import warnings\n",
    "warnings.filterwarnings(\"ignore\")\n",
    "alpha=0.05\n",
    "\n"
   ]
  },
  {
   "cell_type": "code",
   "execution_count": 2,
   "id": "0694a3af",
   "metadata": {},
   "outputs": [],
   "source": [
    "telco=acq.get_telco_data()\n",
    "telco=prep.prep_telco(telco)\n",
    "telco=telco.rename(columns={\"contract_type_Month-to-month\":\"no_contract\"})\n"
   ]
  },
  {
   "cell_type": "code",
   "execution_count": 3,
   "id": "562cae5b",
   "metadata": {},
   "outputs": [
    {
     "name": "stdout",
     "output_type": "stream",
     "text": [
      "<class 'pandas.core.frame.DataFrame'>\n",
      "Int64Index: 4225 entries, 5911 to 3586\n",
      "Data columns (total 58 columns):\n",
      " #   Column                                  Non-Null Count  Dtype  \n",
      "---  ------                                  --------------  -----  \n",
      " 0   customer_id                             4225 non-null   object \n",
      " 1   gender                                  4225 non-null   object \n",
      " 2   senior_citizen                          4225 non-null   int64  \n",
      " 3   partner                                 4225 non-null   object \n",
      " 4   dependents                              4225 non-null   object \n",
      " 5   tenure                                  4225 non-null   int64  \n",
      " 6   phone_service                           4225 non-null   object \n",
      " 7   multiple_lines                          4225 non-null   object \n",
      " 8   online_security                         4225 non-null   object \n",
      " 9   online_backup                           4225 non-null   object \n",
      " 10  device_protection                       4225 non-null   object \n",
      " 11  tech_support                            4225 non-null   object \n",
      " 12  streaming_tv                            4225 non-null   object \n",
      " 13  streaming_movies                        4225 non-null   object \n",
      " 14  paperless_billing                       4225 non-null   object \n",
      " 15  monthly_charges                         4225 non-null   float64\n",
      " 16  total_charges                           4225 non-null   float64\n",
      " 17  churn                                   4225 non-null   object \n",
      " 18  payment_type                            4225 non-null   object \n",
      " 19  internet_service_type                   4225 non-null   object \n",
      " 20  contract_type                           4225 non-null   object \n",
      " 21  gender_encoded                          4225 non-null   int64  \n",
      " 22  partner_encoded                         4225 non-null   int64  \n",
      " 23  dependents_encoded                      4225 non-null   int64  \n",
      " 24  phone_service_encoded                   4225 non-null   int64  \n",
      " 25  paperless_billing_encoded               4225 non-null   int64  \n",
      " 26  churn_encoded                           4225 non-null   int64  \n",
      " 27  multiple_lines_No                       4225 non-null   uint8  \n",
      " 28  multiple_lines_No phone service         4225 non-null   uint8  \n",
      " 29  multiple_lines_Yes                      4225 non-null   uint8  \n",
      " 30  online_security_No                      4225 non-null   uint8  \n",
      " 31  online_security_No internet service     4225 non-null   uint8  \n",
      " 32  online_security_Yes                     4225 non-null   uint8  \n",
      " 33  online_backup_No                        4225 non-null   uint8  \n",
      " 34  online_backup_No internet service       4225 non-null   uint8  \n",
      " 35  online_backup_Yes                       4225 non-null   uint8  \n",
      " 36  device_protection_No                    4225 non-null   uint8  \n",
      " 37  device_protection_No internet service   4225 non-null   uint8  \n",
      " 38  device_protection_Yes                   4225 non-null   uint8  \n",
      " 39  tech_support_No                         4225 non-null   uint8  \n",
      " 40  tech_support_No internet service        4225 non-null   uint8  \n",
      " 41  tech_support_Yes                        4225 non-null   uint8  \n",
      " 42  streaming_tv_No                         4225 non-null   uint8  \n",
      " 43  streaming_tv_No internet service        4225 non-null   uint8  \n",
      " 44  streaming_tv_Yes                        4225 non-null   uint8  \n",
      " 45  streaming_movies_No                     4225 non-null   uint8  \n",
      " 46  streaming_movies_No internet service    4225 non-null   uint8  \n",
      " 47  streaming_movies_Yes                    4225 non-null   uint8  \n",
      " 48  no_contract                             4225 non-null   uint8  \n",
      " 49  contract_type_One year                  4225 non-null   uint8  \n",
      " 50  contract_type_Two year                  4225 non-null   uint8  \n",
      " 51  internet_service_type_DSL               4225 non-null   uint8  \n",
      " 52  internet_service_type_Fiber optic       4225 non-null   uint8  \n",
      " 53  internet_service_type_None              4225 non-null   uint8  \n",
      " 54  payment_type_Bank transfer (automatic)  4225 non-null   uint8  \n",
      " 55  payment_type_Credit card (automatic)    4225 non-null   uint8  \n",
      " 56  payment_type_Electronic check           4225 non-null   uint8  \n",
      " 57  payment_type_Mailed check               4225 non-null   uint8  \n",
      "dtypes: float64(2), int64(8), object(17), uint8(31)\n",
      "memory usage: 1.0+ MB\n"
     ]
    }
   ],
   "source": [
    "train,validate,test=prep.split_data(telco,'churn')\n",
    "train.info()"
   ]
  },
  {
   "cell_type": "code",
   "execution_count": 4,
   "id": "336fb771",
   "metadata": {},
   "outputs": [],
   "source": [
    "#help me create visualiztion for all x,y variables\n",
    "def create_barplot(data, x, y,title):\n",
    "    sns.barplot(data=data, x=x, y=y)\n",
    "    plt.title(title)"
   ]
  },
  {
   "cell_type": "code",
   "execution_count": 5,
   "id": "186bb33c",
   "metadata": {},
   "outputs": [
    {
     "data": {
      "image/png": "[encoded data removed]",
      "text/plain": [
       "<Figure size 640x480 with 1 Axes>"
      ]
     },
     "metadata": {},
     "output_type": "display_data"
    }
   ],
   "source": [
    "create_barplot(telco,'churn','dependents_encoded', \"Churn vs. Dependents Count\")"
   ]
  },
  {
   "cell_type": "code",
   "execution_count": 6,
   "id": "cac59d44",
   "metadata": {},
   "outputs": [],
   "source": [
    "def chi_square_test(observed, alpha=0.05):\n",
    "    chi2, p, dof, expected = stats.chi2_contingency(observed)\n",
    "    print(\"Observed Contingency Table:\")\n",
    "    print(observed)\n",
    "    print(\"Expected Contingency Table:\")\n",
    "    print(expected)\n",
    "    print(\"Chi-Square Test Statistic:\")\n",
    "    print(chi2)\n",
    "    print(\"p-value:\")\n",
    "    print(p)\n",
    "    if p < alpha:\n",
    "        print('We reject the null hypothesis.')\n",
    "    else:\n",
    "        print('We fail to reject the null hypothesis.')\n",
    "   \n",
    "    "
   ]
  },
  {
   "cell_type": "code",
   "execution_count": 7,
   "id": "01d1e677",
   "metadata": {},
   "outputs": [],
   "source": [
    "observed=pd.crosstab(telco.churn,telco.no_contract)"
   ]
  },
  {
   "cell_type": "code",
   "execution_count": 8,
   "id": "6df9d096",
   "metadata": {
    "scrolled": false
   },
   "outputs": [
    {
     "name": "stdout",
     "output_type": "stream",
     "text": [
      "Observed Contingency Table:\n",
      "no_contract     0     1\n",
      "churn                  \n",
      "No           2954  2220\n",
      "Yes           214  1655\n",
      "Expected Contingency Table:\n",
      "[[2327.30824933 2846.69175067]\n",
      " [ 840.69175067 1028.30824933]]\n",
      "Chi-Square Test Statistic:\n",
      "1153.971661109348\n",
      "p-value:\n",
      "6.147585925548493e-253\n",
      "We reject the null hypothesis.\n"
     ]
    }
   ],
   "source": [
    "chi_square_test(observed)"
   ]
  },
  {
   "cell_type": "code",
   "execution_count": 9,
   "id": "f34df80e",
   "metadata": {},
   "outputs": [],
   "source": [
    "def t_test(sample1, sample2):\n",
    "    \"\"\"\n",
    "    Performs a two-sample t-test on the provided samples and returns the t-value and p-value.\n",
    "\n",
    "    Parameters:\n",
    "    sample1 (array-like): First sample data\n",
    "    sample2 (array-like): Second sample data\n",
    "\n",
    "    Returns:\n",
    "    t_value (float): The calculated t-value from the t-test\n",
    "    p_value (float): The calculated p-value from the t-test\n",
    "    \"\"\"\n",
    "    # Convert samples to numpy arrays\n",
    "    sample1 = np.array(sample1)\n",
    "    sample2 = np.array(sample2)\n",
    "\n",
    "    # Calculate t-value and p-value using scipy's ttest_ind function\n",
    "    t_value, p_value = ttest_ind(sample1, sample2)\n",
    "\n",
    "    return t_value, p_value"
   ]
  },
  {
   "cell_type": "code",
   "execution_count": null,
   "id": "a424dec4",
   "metadata": {},
   "outputs": [],
   "source": []
  },
  {
   "cell_type": "code",
   "execution_count": 10,
   "id": "8901f232",
   "metadata": {},
   "outputs": [],
   "source": [
    "x_train=telco.select_dtypes(exclude=['object']).drop(columns=['churn_encoded'])\n",
    "y_train=telco.churn_encoded\n",
    "x_validate=telco.select_dtypes(exclude=['object']).drop(columns=['churn_encoded'])\n",
    "y_validate=telco.churn_encoded\n",
    "x_test=telco.select_dtypes(exclude=['object']).drop(columns=['churn_encoded'])\n",
    "y_test=telco.churn_encoded"
   ]
  },
  {
   "cell_type": "code",
   "execution_count": 11,
   "id": "dd43a3be",
   "metadata": {},
   "outputs": [],
   "source": [
    "def fit_DT_random_features(df, target_col, n_random_features=0):\n",
    "    \"\"\"\n",
    "    Fits a decision tree model to the input DataFrame `df`, with an additional\n",
    "    `n_random_features` randomly selected features from the same DataFrame.\n",
    "    Returns the best model that achieves a score of 79% or higher on the\n",
    "    specified `target_col` variable.\n",
    "    \"\"\"\n",
    "    X = df.select_dtypes(exclude=['object']).drop(target_col, axis=1)\n",
    "    y = df[target_col]\n",
    "    X_train, X_test, y_train, y_test = train_test_split(X, y, test_size=0.2, random_state=123)\n",
    "    best_score = 0\n",
    "    best_model = None\n",
    "    for depth in range(1, 21):\n",
    "        selected_cols = np.random.choice(X.columns, size=n_random_features, replace=False)\n",
    "        X_train_with_random = X_train.copy()\n",
    "        X_test_with_random = X_test.copy()\n",
    "        for col in selected_cols:\n",
    "            X_train_with_random[col] = np.random.permutation(X_train_with_random[col].values)\n",
    "            X_test_with_random[col] = np.random.permutation(X_test_with_random[col].values)\n",
    "        model = DecisionTreeClassifier(max_depth=depth)\n",
    "        model.fit(X_train_with_random, y_train)\n",
    "        score = model.score(X_test_with_random, y_test)\n",
    "        if score > best_score and score >= 0.79:\n",
    "            best_score = score\n",
    "            best_model = model\n",
    "    return best_model\n"
   ]
  },
  {
   "cell_type": "code",
   "execution_count": 24,
   "id": "c2ab83b8",
   "metadata": {},
   "outputs": [
    {
     "data": {
      "text/plain": [
       "DecisionTreeClassifier(max_depth=4)"
      ]
     },
     "execution_count": 24,
     "metadata": {},
     "output_type": "execute_result"
    }
   ],
   "source": [
    "\n",
    "fit_DT_random_features(telco,'churn_encoded',n_random_features=6)"
   ]
  },
  {
   "cell_type": "code",
   "execution_count": 13,
   "id": "767eb5cf",
   "metadata": {},
   "outputs": [
    {
     "data": {
      "text/plain": [
       "(79.56836575323015, 79.56836575323015)"
      ]
     },
     "execution_count": 13,
     "metadata": {},
     "output_type": "execute_result"
    }
   ],
   "source": [
    "dt=DecisionTreeClassifier(max_depth=4)\n",
    "dt.fit(x_train,y_train)\n",
    "dt.score(x_train,y_train)*100,dt.score(x_validate,y_validate)*100"
   ]
  },
  {
   "cell_type": "code",
   "execution_count": 14,
   "id": "0cd2a3b4",
   "metadata": {},
   "outputs": [],
   "source": [
    "def fit_knn_random_features(df, target_col, n_random_features=0):\n",
    "    X = df.select_dtypes(exclude=['object']).drop(target_col, axis=1)\n",
    "    y = df[target_col]\n",
    "    X_train, X_test, y_train, y_test = train_test_split(X, y, test_size=0.2, random_state=42)\n",
    "    best_score = 0\n",
    "    best_model = None\n",
    "    for k in range(1, 21):\n",
    "        selected_cols = np.random.choice(X.columns, size=n_random_features, replace=False)\n",
    "        X_train_with_random = X_train.copy()\n",
    "        X_test_with_random = X_test.copy()\n",
    "        for col in selected_cols:\n",
    "            X_train_with_random[col] = np.random.permutation(X_train_with_random[col].values)\n",
    "            X_test_with_random[col] = np.random.permutation(X_test_with_random[col].values)\n",
    "        model = KNeighborsClassifier(n_neighbors=k)\n",
    "        model.fit(X_train_with_random, y_train)\n",
    "        score = model.score(X_test_with_random, y_test)\n",
    "        if score > best_score and score >= 0.79:\n",
    "            best_score = score\n",
    "            best_model = model\n",
    "    return best_model"
   ]
  },
  {
   "cell_type": "code",
   "execution_count": 15,
   "id": "1f030c02",
   "metadata": {},
   "outputs": [
    {
     "data": {
      "text/plain": [
       "KNeighborsClassifier(n_neighbors=13)"
      ]
     },
     "execution_count": 15,
     "metadata": {},
     "output_type": "execute_result"
    }
   ],
   "source": [
    "fit_knn_random_features(telco,'churn_encoded',n_random_features=6)\n",
    " "
   ]
  },
  {
   "cell_type": "code",
   "execution_count": 16,
   "id": "7bf5b4db",
   "metadata": {},
   "outputs": [
    {
     "data": {
      "text/plain": [
       "(81.2011926735766, 81.2011926735766, 81.2011926735766)"
      ]
     },
     "execution_count": 16,
     "metadata": {},
     "output_type": "execute_result"
    }
   ],
   "source": [
    "knn13=KNeighborsClassifier(n_neighbors=11)\n",
    "knn13.fit(x_train,y_train)\n",
    "knn13.score(x_train,y_train)*100, knn13.score(x_validate,y_validate)*100, knn13.score(x_test,y_test)*100"
   ]
  },
  {
   "cell_type": "code",
   "execution_count": 17,
   "id": "840bbd83",
   "metadata": {},
   "outputs": [
    {
     "data": {
      "text/plain": [
       "80.47706943064034"
      ]
     },
     "execution_count": 17,
     "metadata": {},
     "output_type": "execute_result"
    }
   ],
   "source": [
    "lr=LogisticRegression()\n",
    "lr.fit(x_train,y_train)\n",
    "lr.score(x_train,y_train)*100"
   ]
  },
  {
   "cell_type": "code",
   "execution_count": 18,
   "id": "5366ea34",
   "metadata": {},
   "outputs": [],
   "source": [
    "import pandas as pd\n",
    "from sklearn.linear_model import LogisticRegression\n",
    "from sklearn.model_selection import train_test_split\n",
    "from sklearn.feature_selection import SelectKBest, f_classif\n",
    "import random\n",
    "\n",
    "def random_logistic_regression(df, target_col, max_features=None):\n",
    "    # Drop object/string columns\n",
    "    df = df.select_dtypes(exclude=['object'])\n",
    "\n",
    "    # Split data into training and testing sets\n",
    "    X_train, X_test, y_train, y_test = train_test_split(df.drop(columns=[target_col]), df[target_col], test_size=0.2, random_state=123)\n",
    "\n",
    "    best_score = 0\n",
    "    best_model = None\n",
    "    best_cols = None\n",
    "\n",
    "    # Iterate through randomized combinations of features\n",
    "    for i in range(100):\n",
    "        cols = list(X_train.columns)\n",
    "        random.shuffle(cols)\n",
    "        if max_features:\n",
    "            n_features = min(max_features, len(cols))\n",
    "        else:\n",
    "            n_features = len(cols)\n",
    "        selected_cols = cols[:n_features]\n",
    "\n",
    "        # Select top K features based on correlation with target variable\n",
    "        selector = SelectKBest(score_func=f_classif, k=n_features)\n",
    "        selector.fit(X_train[selected_cols], y_train)\n",
    "        selected_cols = list(X_train[selected_cols].columns[selector.get_support()])\n",
    "\n",
    "        # Fit logistic regression model\n",
    "        model = LogisticRegression()\n",
    "        model.fit(X_train[selected_cols], y_train)\n",
    "        score = model.score(X_test[selected_cols], y_test)\n",
    "\n",
    "        # Keep track of best model and selected columns\n",
    "        if score > best_score and score >= 0.79:\n",
    "            best_score = score\n",
    "            best_model = model\n",
    "            best_cols = selected_cols\n",
    "\n",
    "    return best_model, best_cols\n"
   ]
  },
  {
   "cell_type": "code",
   "execution_count": 19,
   "id": "d8bdacac",
   "metadata": {
    "scrolled": true
   },
   "outputs": [
    {
     "data": {
      "text/plain": [
       "(LogisticRegression(),\n",
       " ['streaming_tv_Yes',\n",
       "  'multiple_lines_No phone service',\n",
       "  'tenure',\n",
       "  'streaming_tv_No internet service',\n",
       "  'device_protection_No internet service',\n",
       "  'online_backup_No internet service',\n",
       "  'device_protection_No',\n",
       "  'online_security_No',\n",
       "  'internet_service_type_DSL',\n",
       "  'contract_type_One year'])"
      ]
     },
     "execution_count": 19,
     "metadata": {},
     "output_type": "execute_result"
    }
   ],
   "source": [
    "random_logistic_regression(telco,'churn_encoded',max_features=10)"
   ]
  },
  {
   "cell_type": "code",
   "execution_count": 20,
   "id": "40b30f17",
   "metadata": {},
   "outputs": [],
   "source": [
    "def create_pie_chart(df, column_name,title):\n",
    "    values = df[column_name].value_counts()\n",
    "    labels = values.index.tolist()\n",
    "    sizes = values.tolist()\n",
    "    plt.pie(sizes, labels=labels, autopct='%1.1f%%', startangle=90)\n",
    "    plt.axis('equal')\n",
    "    plt.title(title)\n",
    "    plt.show()\n",
    "    "
   ]
  },
  {
   "cell_type": "code",
   "execution_count": 21,
   "id": "1fe63245",
   "metadata": {},
   "outputs": [
    {
     "data": {
      "image/png": "[encoded data removed]",
      "text/plain": [
       "<Figure size 640x480 with 1 Axes>"
      ]
     },
     "metadata": {},
     "output_type": "display_data"
    }
   ],
   "source": [
    "create_pie_chart(telco,'churn','Customer Churn Rate')"
   ]
  },
  {
   "cell_type": "markdown",
   "id": "e086ccd2",
   "metadata": {},
   "source": []
  },
  {
   "cell_type": "code",
   "execution_count": null,
   "id": "9ee55484",
   "metadata": {},
   "outputs": [],
   "source": []
  }
 ],
 "metadata": {
  "kernelspec": {
   "display_name": "Python 3 (ipykernel)",
   "language": "python",
   "name": "python3"
  },
  "language_info": {
   "codemirror_mode": {
    "name": "ipython",
    "version": 3
   },
   "file_extension": ".py",
   "mimetype": "text/x-python",
   "name": "python",
   "nbconvert_exporter": "python",
   "pygments_lexer": "ipython3",
   "version": "3.9.13"
  }
 },
 "nbformat": 4,
 "nbformat_minor": 5
}
